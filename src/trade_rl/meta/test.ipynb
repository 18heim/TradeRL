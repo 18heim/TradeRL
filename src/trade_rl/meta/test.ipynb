{
 "cells": [
  {
   "cell_type": "code",
   "execution_count": 9,
   "metadata": {},
   "outputs": [],
   "source": [
    "# from trade_rl.meta.data_processors.alpaca import Alpaca\n",
    "import alpaca_trade_api as tradeapi\n",
    "import pandas as pd"
   ]
  },
  {
   "cell_type": "code",
   "execution_count": 19,
   "metadata": {},
   "outputs": [],
   "source": [
    "keys = {}\n",
    "keys[\"API_KEY\"] = \"PK2IGPKCURWCF4CEYZ1G\"\n",
    "keys[\"API_SECRET\"] = \"OUZUEJrGtxY6ZCcPnCDsbsq8bfHUehMQm6eGEep4\"\n",
    "keys[\"API_BASE_URL\"] = 'https://paper-api.alpaca.markets'\n",
    "keys[\"data_url\"] = 'wss://data.alpaca.markets'\n",
    "api = tradeapi.REST(\n",
    "                    keys[\"API_KEY\"],\n",
    "                    keys[\"API_SECRET\"],\n",
    "                    keys[\"API_BASE_URL\"],\n",
    "                    \"v2\",\n",
    "                )"
   ]
  },
  {
   "cell_type": "code",
   "execution_count": 38,
   "metadata": {},
   "outputs": [],
   "source": [
    "time_interval = \"1Min\"\n",
    "start_date = pd.Timestamp('2022-09-01', tz=\"Europe/Paris\" ).date().isoformat()\n",
    "end_date = pd.Timestamp('2022-09-03', tz=\"Europe/Paris\" ).date().isoformat()"
   ]
  },
  {
   "cell_type": "code",
   "execution_count": 199,
   "metadata": {},
   "outputs": [],
   "source": [
    "barset = api.get_crypto_bars(\n",
    "                    [\"ETHUSD\", \"BTCUSD\"],\n",
    "                    time_interval,\n",
    "                    exchanges='CBSE',\n",
    "                ).df.groupby(\"symbol\").tail(100)"
   ]
  },
  {
   "cell_type": "code",
   "execution_count": 202,
   "metadata": {},
   "outputs": [
    {
     "data": {
      "text/plain": [
       "200"
      ]
     },
     "execution_count": 202,
     "metadata": {},
     "output_type": "execute_result"
    }
   ],
   "source": [
    "len(barset)"
   ]
  },
  {
   "cell_type": "code",
   "execution_count": 91,
   "metadata": {},
   "outputs": [],
   "source": [
    "barset = barset.reset_index()\n",
    "barset[\"time\"] = barset[\"timestamp\"].apply(\n",
    "            lambda x: x.strftime(\"%Y-%m-%d %H:%M:%S\")\n",
    "        )"
   ]
  },
  {
   "cell_type": "code",
   "execution_count": 92,
   "metadata": {},
   "outputs": [],
   "source": [
    "barset = barset.rename(columns={\"symbol\":\"tic\"})"
   ]
  },
  {
   "cell_type": "code",
   "execution_count": 100,
   "metadata": {},
   "outputs": [
    {
     "name": "stdout",
     "output_type": "stream",
     "text": [
      "indicator:  macd\n",
      "indicator:  rsi\n",
      "indicator:  cci\n",
      "indicator:  dx\n",
      "indicator:  rsi_30\n"
     ]
    }
   ],
   "source": [
    "import stockstats\n",
    "from typing import List\n",
    "def test_stock_stats(dataframe: pd.DataFrame, tech_indicator_list:List[str]):\n",
    "    stock = stockstats.StockDataFrame.retype(dataframe)\n",
    "    unique_ticker = stock.tic.unique()\n",
    "    for indicator in tech_indicator_list:\n",
    "        print(\"indicator: \", indicator)\n",
    "        indicator_df = pd.DataFrame()\n",
    "        for i in range(len(unique_ticker)):\n",
    "            try:\n",
    "                temp_indicator = stock[stock.tic ==\n",
    "                                        unique_ticker[i]][indicator]\n",
    "                temp_indicator = pd.DataFrame(temp_indicator)\n",
    "                temp_indicator[\"tic\"] = unique_ticker[i]\n",
    "                temp_indicator[\"time\"] = dataframe[\n",
    "                    dataframe.tic == unique_ticker[i]\n",
    "                ][\"time\"].to_list()\n",
    "                indicator_df = pd.concat(\n",
    "                    [indicator_df, temp_indicator],\n",
    "                    axis=0,\n",
    "                    join=\"outer\",\n",
    "                    ignore_index=True,\n",
    "                )\n",
    "            except Exception as e:\n",
    "                print(e)\n",
    "        if not indicator_df.empty:\n",
    "            dataframe = dataframe.merge(\n",
    "                indicator_df[[\"tic\", \"time\", indicator]],\n",
    "                on=[\"tic\", \"time\"],\n",
    "                how=\"left\",\n",
    "            )\n",
    "\n",
    "    return dataframe\n",
    "\n",
    "tech_indicator_list = ['macd', 'rsi', 'cci', 'dx', 'rsi_30']\n",
    "df = test_stock_stats(barset, tech_indicator_list)"
   ]
  },
  {
   "cell_type": "code",
   "execution_count": 101,
   "metadata": {},
   "outputs": [
    {
     "data": {
      "text/html": [
       "<div>\n",
       "<style scoped>\n",
       "    .dataframe tbody tr th:only-of-type {\n",
       "        vertical-align: middle;\n",
       "    }\n",
       "\n",
       "    .dataframe tbody tr th {\n",
       "        vertical-align: top;\n",
       "    }\n",
       "\n",
       "    .dataframe thead th {\n",
       "        text-align: right;\n",
       "    }\n",
       "</style>\n",
       "<table border=\"1\" class=\"dataframe\">\n",
       "  <thead>\n",
       "    <tr style=\"text-align: right;\">\n",
       "      <th></th>\n",
       "      <th>timestamp</th>\n",
       "      <th>exchange</th>\n",
       "      <th>open</th>\n",
       "      <th>high</th>\n",
       "      <th>low</th>\n",
       "      <th>close</th>\n",
       "      <th>volume</th>\n",
       "      <th>trade_count</th>\n",
       "      <th>vwap</th>\n",
       "      <th>tic</th>\n",
       "      <th>time</th>\n",
       "      <th>macd</th>\n",
       "      <th>rsi</th>\n",
       "      <th>cci</th>\n",
       "      <th>dx</th>\n",
       "      <th>rsi_30</th>\n",
       "    </tr>\n",
       "  </thead>\n",
       "  <tbody>\n",
       "    <tr>\n",
       "      <th>0</th>\n",
       "      <td>2022-09-01 05:00:00+00:00</td>\n",
       "      <td>CBSE</td>\n",
       "      <td>20054.10</td>\n",
       "      <td>20055.23</td>\n",
       "      <td>20044.63</td>\n",
       "      <td>20047.37</td>\n",
       "      <td>4.858587</td>\n",
       "      <td>252</td>\n",
       "      <td>20049.279334</td>\n",
       "      <td>BTCUSD</td>\n",
       "      <td>2022-09-01 05:00:00</td>\n",
       "      <td>0.000000</td>\n",
       "      <td>100.000000</td>\n",
       "      <td>66.666667</td>\n",
       "      <td>100.000000</td>\n",
       "      <td>100.000000</td>\n",
       "    </tr>\n",
       "    <tr>\n",
       "      <th>1</th>\n",
       "      <td>2022-09-01 05:01:00+00:00</td>\n",
       "      <td>CBSE</td>\n",
       "      <td>20048.74</td>\n",
       "      <td>20063.02</td>\n",
       "      <td>20047.58</td>\n",
       "      <td>20061.69</td>\n",
       "      <td>12.714989</td>\n",
       "      <td>243</td>\n",
       "      <td>20058.593336</td>\n",
       "      <td>BTCUSD</td>\n",
       "      <td>2022-09-01 05:01:00</td>\n",
       "      <td>0.321282</td>\n",
       "      <td>100.000000</td>\n",
       "      <td>66.666667</td>\n",
       "      <td>100.000000</td>\n",
       "      <td>100.000000</td>\n",
       "    </tr>\n",
       "    <tr>\n",
       "      <th>2</th>\n",
       "      <td>2022-09-01 05:02:00+00:00</td>\n",
       "      <td>CBSE</td>\n",
       "      <td>20061.31</td>\n",
       "      <td>20063.36</td>\n",
       "      <td>20044.57</td>\n",
       "      <td>20045.57</td>\n",
       "      <td>6.147744</td>\n",
       "      <td>312</td>\n",
       "      <td>20056.755726</td>\n",
       "      <td>BTCUSD</td>\n",
       "      <td>2022-09-01 05:02:00</td>\n",
       "      <td>-0.090503</td>\n",
       "      <td>45.202020</td>\n",
       "      <td>-28.551881</td>\n",
       "      <td>38.328097</td>\n",
       "      <td>46.199715</td>\n",
       "    </tr>\n",
       "    <tr>\n",
       "      <th>3</th>\n",
       "      <td>2022-09-01 05:03:00+00:00</td>\n",
       "      <td>CBSE</td>\n",
       "      <td>20045.16</td>\n",
       "      <td>20054.84</td>\n",
       "      <td>20042.44</td>\n",
       "      <td>20044.23</td>\n",
       "      <td>6.259407</td>\n",
       "      <td>307</td>\n",
       "      <td>20047.215038</td>\n",
       "      <td>BTCUSD</td>\n",
       "      <td>2022-09-01 05:03:00</td>\n",
       "      <td>-0.323953</td>\n",
       "      <td>43.088296</td>\n",
       "      <td>-86.631828</td>\n",
       "      <td>10.505265</td>\n",
       "      <td>44.156823</td>\n",
       "    </tr>\n",
       "    <tr>\n",
       "      <th>4</th>\n",
       "      <td>2022-09-01 05:04:00+00:00</td>\n",
       "      <td>CBSE</td>\n",
       "      <td>20044.75</td>\n",
       "      <td>20048.70</td>\n",
       "      <td>20036.21</td>\n",
       "      <td>20039.42</td>\n",
       "      <td>6.062276</td>\n",
       "      <td>298</td>\n",
       "      <td>20042.382135</td>\n",
       "      <td>BTCUSD</td>\n",
       "      <td>2022-09-01 05:04:00</td>\n",
       "      <td>-0.635388</td>\n",
       "      <td>36.491833</td>\n",
       "      <td>-129.174106</td>\n",
       "      <td>34.176373</td>\n",
       "      <td>37.928941</td>\n",
       "    </tr>\n",
       "  </tbody>\n",
       "</table>\n",
       "</div>"
      ],
      "text/plain": [
       "                  timestamp exchange      open      high       low     close  \\\n",
       "0 2022-09-01 05:00:00+00:00     CBSE  20054.10  20055.23  20044.63  20047.37   \n",
       "1 2022-09-01 05:01:00+00:00     CBSE  20048.74  20063.02  20047.58  20061.69   \n",
       "2 2022-09-01 05:02:00+00:00     CBSE  20061.31  20063.36  20044.57  20045.57   \n",
       "3 2022-09-01 05:03:00+00:00     CBSE  20045.16  20054.84  20042.44  20044.23   \n",
       "4 2022-09-01 05:04:00+00:00     CBSE  20044.75  20048.70  20036.21  20039.42   \n",
       "\n",
       "      volume  trade_count          vwap     tic                 time  \\\n",
       "0   4.858587          252  20049.279334  BTCUSD  2022-09-01 05:00:00   \n",
       "1  12.714989          243  20058.593336  BTCUSD  2022-09-01 05:01:00   \n",
       "2   6.147744          312  20056.755726  BTCUSD  2022-09-01 05:02:00   \n",
       "3   6.259407          307  20047.215038  BTCUSD  2022-09-01 05:03:00   \n",
       "4   6.062276          298  20042.382135  BTCUSD  2022-09-01 05:04:00   \n",
       "\n",
       "       macd         rsi         cci          dx      rsi_30  \n",
       "0  0.000000  100.000000   66.666667  100.000000  100.000000  \n",
       "1  0.321282  100.000000   66.666667  100.000000  100.000000  \n",
       "2 -0.090503   45.202020  -28.551881   38.328097   46.199715  \n",
       "3 -0.323953   43.088296  -86.631828   10.505265   44.156823  \n",
       "4 -0.635388   36.491833 -129.174106   34.176373   37.928941  "
      ]
     },
     "execution_count": 101,
     "metadata": {},
     "output_type": "execute_result"
    }
   ],
   "source": [
    "df.backfill().head()"
   ]
  },
  {
   "cell_type": "code",
   "execution_count": null,
   "metadata": {},
   "outputs": [],
   "source": []
  }
 ],
 "metadata": {
  "kernelspec": {
   "display_name": "Python 3.8.2 ('trade-rl-obElyOoo-py3.8')",
   "language": "python",
   "name": "python3"
  },
  "language_info": {
   "codemirror_mode": {
    "name": "ipython",
    "version": 3
   },
   "file_extension": ".py",
   "mimetype": "text/x-python",
   "name": "python",
   "nbconvert_exporter": "python",
   "pygments_lexer": "ipython3",
   "version": "3.8.2"
  },
  "orig_nbformat": 4,
  "vscode": {
   "interpreter": {
    "hash": "3cc55af6de2daa1ae29b38b2fe98fa45b0310184265cb17cd5207dee524d9a54"
   }
  }
 },
 "nbformat": 4,
 "nbformat_minor": 2
}
